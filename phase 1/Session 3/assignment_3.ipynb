{
  "nbformat": 4,
  "nbformat_minor": 0,
  "metadata": {
    "colab": {
      "name": "assignment_3.ipynb",
      "version": "0.3.2",
      "provenance": [],
      "collapsed_sections": []
    },
    "kernelspec": {
      "name": "python3",
      "display_name": "Python 3"
    },
    "accelerator": "GPU"
  },
  "cells": [
    {
      "cell_type": "markdown",
      "metadata": {
        "id": "aNyZv-Ec52ot",
        "colab_type": "text"
      },
      "source": [
        "# **Import Libraries and modules**"
      ]
    },
    {
      "cell_type": "code",
      "metadata": {
        "id": "3m3w1Cw49Zkt",
        "colab_type": "code",
        "outputId": "32850c46-9a3b-4a25-b9c1-c600d80b0962",
        "colab": {
          "base_uri": "https://localhost:8080/",
          "height": 34
        }
      },
      "source": [
        "# https://keras.io/\n",
        "# !pip install -q keras\n",
        "import keras"
      ],
      "execution_count": 0,
      "outputs": [
        {
          "output_type": "stream",
          "text": [
            "Using TensorFlow backend.\n"
          ],
          "name": "stderr"
        }
      ]
    },
    {
      "cell_type": "code",
      "metadata": {
        "id": "Eso6UHE080D4",
        "colab_type": "code",
        "colab": {}
      },
      "source": [
        "# importing all the required libraries\n",
        "import numpy as np\n",
        "\n",
        "from keras.models import Sequential\n",
        "from keras.layers import Dense, Dropout, Activation, Flatten, Add, Concatenate, Reshape\n",
        "from keras.layers import Convolution2D, MaxPooling2D, Conv2D\n",
        "from keras.layers.normalization import BatchNormalization\n",
        "from keras.utils import np_utils\n",
        "\n",
        "from keras.datasets import mnist"
      ],
      "execution_count": 0,
      "outputs": []
    },
    {
      "cell_type": "markdown",
      "metadata": {
        "id": "zByEi95J86RD",
        "colab_type": "text"
      },
      "source": [
        "### Load pre-shuffled MNIST data into train and test sets"
      ]
    },
    {
      "cell_type": "code",
      "metadata": {
        "id": "7eRM0QWN83PV",
        "colab_type": "code",
        "outputId": "0a27cb41-ea41-42c8-93ae-455425304c53",
        "colab": {
          "base_uri": "https://localhost:8080/",
          "height": 51
        }
      },
      "source": [
        "# loading the mnist data from the mnist library which is part of keras.dataset modules in the train and test format\n",
        "(X_train, y_train), (X_test, y_test) = mnist.load_data()"
      ],
      "execution_count": 0,
      "outputs": [
        {
          "output_type": "stream",
          "text": [
            "Downloading data from https://s3.amazonaws.com/img-datasets/mnist.npz\n",
            "11493376/11490434 [==============================] - 2s 0us/step\n"
          ],
          "name": "stdout"
        }
      ]
    },
    {
      "cell_type": "code",
      "metadata": {
        "id": "4a4Be72j8-ZC",
        "colab_type": "code",
        "outputId": "b2d685a5-ee88-49e0-9cee-7f5de307a425",
        "colab": {
          "base_uri": "https://localhost:8080/",
          "height": 303
        }
      },
      "source": [
        "# visualizing one sample of the dataset\n",
        "print (X_train.shape)\n",
        "from matplotlib import pyplot as plt\n",
        "%matplotlib inline\n",
        "plt.imshow(X_train[0])"
      ],
      "execution_count": 0,
      "outputs": [
        {
          "output_type": "stream",
          "text": [
            "(60000, 28, 28)\n"
          ],
          "name": "stdout"
        },
        {
          "output_type": "execute_result",
          "data": {
            "text/plain": [
              "<matplotlib.image.AxesImage at 0x7ff6375b5eb8>"
            ]
          },
          "metadata": {
            "tags": []
          },
          "execution_count": 4
        },
        {
          "output_type": "display_data",
          "data": {
            "image/png": "[encoded data removed]",
            "text/plain": [
              "<Figure size 432x288 with 1 Axes>"
            ]
          },
          "metadata": {
            "tags": []
          }
        }
      ]
    },
    {
      "cell_type": "code",
      "metadata": {
        "id": "l6Q_oUQynlr0",
        "colab_type": "code",
        "outputId": "4db9ea7f-64a2-46fe-a13a-24972b92e09d",
        "colab": {
          "base_uri": "https://localhost:8080/",
          "height": 34
        }
      },
      "source": [
        "X_train.shape"
      ],
      "execution_count": 0,
      "outputs": [
        {
          "output_type": "execute_result",
          "data": {
            "text/plain": [
              "(60000, 28, 28)"
            ]
          },
          "metadata": {
            "tags": []
          },
          "execution_count": 5
        }
      ]
    },
    {
      "cell_type": "code",
      "metadata": {
        "id": "dkmprriw9AnZ",
        "colab_type": "code",
        "colab": {}
      },
      "source": [
        "# adding one more dimension to the dataset which is the number of channel. Because these are all grey images, so total number of channel is one.\n",
        "X_train = X_train.reshape(X_train.shape[0], 28, 28,1)\n",
        "X_test = X_test.reshape(X_test.shape[0], 28, 28,1)"
      ],
      "execution_count": 0,
      "outputs": []
    },
    {
      "cell_type": "code",
      "metadata": {
        "id": "X2m4YS4E9CRh",
        "colab_type": "code",
        "colab": {}
      },
      "source": [
        "# Normalising the grey values\n",
        "X_train = X_train.astype('float32')\n",
        "X_test = X_test.astype('float32')\n",
        "X_train /= 255\n",
        "X_test /= 255"
      ],
      "execution_count": 0,
      "outputs": []
    },
    {
      "cell_type": "code",
      "metadata": {
        "id": "0Mn0vAYD9DvB",
        "colab_type": "code",
        "outputId": "d18ceb70-2c98-499e-b444-e72fd5764d38",
        "colab": {
          "base_uri": "https://localhost:8080/",
          "height": 34
        }
      },
      "source": [
        "# checking the format in which the output data is stored\n",
        "y_train[:10]"
      ],
      "execution_count": 0,
      "outputs": [
        {
          "output_type": "execute_result",
          "data": {
            "text/plain": [
              "array([5, 0, 4, 1, 9, 2, 1, 3, 1, 4], dtype=uint8)"
            ]
          },
          "metadata": {
            "tags": []
          },
          "execution_count": 8
        }
      ]
    },
    {
      "cell_type": "code",
      "metadata": {
        "id": "ZG8JiXR39FHC",
        "colab_type": "code",
        "colab": {}
      },
      "source": [
        "# Convert 1-dimensional class arrays to 10-dimensional class matrices\n",
        "Y_train = np_utils.to_categorical(y_train, 10)\n",
        "Y_test = np_utils.to_categorical(y_test, 10)"
      ],
      "execution_count": 0,
      "outputs": []
    },
    {
      "cell_type": "code",
      "metadata": {
        "id": "fYlFRvKS9HMB",
        "colab_type": "code",
        "outputId": "9270b033-3010-43b1-d2cb-8d1d93d0ecbb",
        "colab": {
          "base_uri": "https://localhost:8080/",
          "height": 187
        }
      },
      "source": [
        "# how do the labels look after converting them to categorical form\n",
        "Y_train[:10]"
      ],
      "execution_count": 0,
      "outputs": [
        {
          "output_type": "execute_result",
          "data": {
            "text/plain": [
              "array([[0., 0., 0., 0., 0., 1., 0., 0., 0., 0.],\n",
              "       [1., 0., 0., 0., 0., 0., 0., 0., 0., 0.],\n",
              "       [0., 0., 0., 0., 1., 0., 0., 0., 0., 0.],\n",
              "       [0., 1., 0., 0., 0., 0., 0., 0., 0., 0.],\n",
              "       [0., 0., 0., 0., 0., 0., 0., 0., 0., 1.],\n",
              "       [0., 0., 1., 0., 0., 0., 0., 0., 0., 0.],\n",
              "       [0., 1., 0., 0., 0., 0., 0., 0., 0., 0.],\n",
              "       [0., 0., 0., 1., 0., 0., 0., 0., 0., 0.],\n",
              "       [0., 1., 0., 0., 0., 0., 0., 0., 0., 0.],\n",
              "       [0., 0., 0., 0., 1., 0., 0., 0., 0., 0.]], dtype=float32)"
            ]
          },
          "metadata": {
            "tags": []
          },
          "execution_count": 10
        }
      ]
    },
    {
      "cell_type": "markdown",
      "metadata": {
        "id": "vo578NWJ0Cyr",
        "colab_type": "text"
      },
      "source": [
        "different trial architectures"
      ]
    },
    {
      "cell_type": "code",
      "metadata": {
        "id": "IoAaqYhyfLiw",
        "colab_type": "code",
        "colab": {}
      },
      "source": [
        "# from keras.layers import Activation\n",
        "# model = Sequential()\n",
        "\n",
        " \n",
        "# model.add(Convolution2D(32, 3, 3, activation='relu', input_shape=(28,28,1)))\n",
        "# model.add(Convolution2D(10, 1, activation='relu'))\n",
        "# model.add(Convolution2D(10, 26))\n",
        "# model.add(Flatten())\n",
        "# model.add(Activation('softmax'))"
      ],
      "execution_count": 0,
      "outputs": []
    },
    {
      "cell_type": "code",
      "metadata": {
        "id": "vY92Y2hTfPyy",
        "colab_type": "code",
        "colab": {}
      },
      "source": [
        "# from keras.layers import Activation\n",
        "# model = Sequential()\n",
        "# model.add(Convolution2D(128, 3, activation='relu', input_shape=(28,28,1))) #(26,26,16)\n",
        "# model.add(Convolution2D(16, 3, activation='relu')) #(24,24,32)\n",
        "# model.add(MaxPooling2D(pool_size=(2, 2))) #(12,12,32)\n",
        "# model.add(Convolution2D(16, 3, activation='relu')) #(10,10,32)\n",
        "# model.add(MaxPooling2D(pool_size=(2, 2))) #(5,5,32)\n",
        "# model.add(Convolution2D(8, 3, activation='relu')) #(3, 3, 32)\n",
        "# model.add(Convolution2D(10, 3, activation='relu')) #(1, 1, 32)\n",
        "# model.add(Flatten()) # output shape = 10\n",
        "# model.add(Activation('softmax'))\n",
        "\n",
        "# model.summary()"
      ],
      "execution_count": 0,
      "outputs": []
    },
    {
      "cell_type": "code",
      "metadata": {
        "id": "_QiAzhuZ0Afg",
        "colab_type": "code",
        "colab": {}
      },
      "source": [
        "# from keras.layers import Activation\n",
        "# model = Sequential()\n",
        "# model.add(Convolution2D(128, 3, activation='relu', input_shape=(28,28,1))) #26\n",
        "# model.add(Convolution2D(64, 3, activation='relu', name = 'papa')) #24\n",
        "# model.add(Convolution2D(32, 3, activation='relu')) #22\n",
        "# model.add(MaxPooling2D(pool_size=(2, 2))) #11\n",
        "# model.add(Convolution2D(128, 3, activation='relu')) #9\n",
        "# model.add(Convolution2D(64, 3, activation='relu')) #7\n",
        "# model.add(Convolution2D(32, 3, activation='relu')) #5\n",
        "# model.add(Convolution2D(16, 3, activation='relu')) #3\n",
        "# model.add(Convolution2D(10, 3, activation='relu')) #1\n",
        "# model.add(Flatten()) # output shape = 10\n",
        "# model.add(Activation('softmax'))\n",
        "\n",
        "# model.summary()"
      ],
      "execution_count": 0,
      "outputs": []
    },
    {
      "cell_type": "code",
      "metadata": {
        "id": "xWkbE0dyfTrN",
        "colab_type": "code",
        "colab": {}
      },
      "source": [
        "# from keras.layers import Activation\n",
        "# model = Sequential()\n",
        "\n",
        "# model.add(Convolution2D(8, 3, activation='relu', input_shape=(28,28,1)))  # output shape = (26, 26, 8)\n",
        "# model.add(Convolution2D(16, 3, activation='relu'))  # output shape = (24, 24, 16)\n",
        "# model.add(Convolution2D(32, 3, activation='relu')) # output shape = (22, 22, 32)\n",
        "# model.add(MaxPooling2D(pool_size=(2, 2))) # output shape = (11, 11, 32)\n",
        "# model.add(Convolution2D(16, 3, activation='relu')) # output shape = (9, , 9, 16)\n",
        "# model.add(Convolution2D(32, 3, activation='relu')) # output shape = (7, 7, 32)\n",
        "# model.add(MaxPooling2D(pool_size=(2, 2))) # output shape = (3, 3, 32)\n",
        "# model.add(Convolution2D(10, 3, activation='relu')) # output shape = (1, 1, 10)\n",
        "# model.add(Flatten()) # output shape = 10\n",
        "# model.add(Activation('softmax'))\n",
        "\n",
        "# model.summary()\n",
        "\n",
        "\n",
        "\n"
      ],
      "execution_count": 0,
      "outputs": []
    },
    {
      "cell_type": "code",
      "metadata": {
        "id": "jgC41djlfYj_",
        "colab_type": "code",
        "colab": {}
      },
      "source": [
        "# from keras.layers import Activation, Input, Dense\n",
        "# from keras.models import Model\n",
        "# inp = Input(shape = (28,28,1))\n",
        "# model = Convolution2D(32, 3, activation='relu')(inp) #26 26 32\n",
        "# x = Convolution2D(8, 3, activation='relu', name = 'papa')(model)#24 24 8\n",
        "# model = Convolution2D(8, 3, activation='relu')(x)#22 22 8\n",
        "# model = MaxPooling2D(pool_size=(2, 2))(model) #11 11 8\n",
        "# model = Convolution2D(8, 3, activation='relu')(model)#9 9 8\n",
        "# model = Convolution2D(8, 3, activation='relu')(model)#7 7 8\n",
        "# model = Flatten()(model)\n",
        "# x_flat = Flatten()(x)\n",
        "# model = Concatenate()([model,x_flat])\n",
        "# model = Reshape((25,25,8))(model) #25 25 8\n",
        "# model = Convolution2D(32,4, activation='relu')(model) #22 22 32\n",
        "# model = Convolution2D(16,3, activation='relu')(model) #20 20 4\n",
        "# model = Convolution2D(8,3, activation='relu')(model) #18 18 4\n",
        "# model = MaxPooling2D(pool_size=(2, 2))(model) #9 9 4\n",
        "# model = Convolution2D(16,3, activation='relu')(model) #7 7 4\n",
        "# model = Convolution2D(8,3, activation='relu')(model) #5 5 4\n",
        "# model = Convolution2D(8,3, activation='relu')(model) #3 3 4\n",
        "# # model = Convolution2D(10,3, activation='relu')(model) #1 1 10\n",
        "# model = Flatten()(model)\n",
        "# # model = Dense(20,activation='elu')(model)\n",
        "# model = Dense(10,activation='softmax')(model)\n",
        "\n",
        "# model = Model(inputs=[inp], outputs = [model])\n",
        "\n",
        "# model.summary()"
      ],
      "execution_count": 0,
      "outputs": []
    },
    {
      "cell_type": "code",
      "metadata": {
        "id": "zzdfKgnRe00H",
        "colab_type": "code",
        "colab": {}
      },
      "source": [
        "\n",
        "# from keras.layers import Activation, Input, Dense\n",
        "# from keras.models import Model\n",
        "# inp = Input(shape = (28,28,1))\n",
        "# model = Convolution2D(32, 3, activation='relu')(inp) #26 26 32\n",
        "# x = Convolution2D(4, 3, activation='relu', name = 'papa')(model)#24 24 4\n",
        "# model = Convolution2D(4, 3, activation='relu')(x)#22 22 4\n",
        "# model = MaxPooling2D(pool_size=(2, 2))(model) #11 11 4\n",
        "# model = Convolution2D(4, 3, activation='relu')(model)#9 9 4\n",
        "# model = Convolution2D(4, 3, activation='relu')(model)#7 7 4\n",
        "# model = Flatten()(model)\n",
        "# x_flat = Flatten()(x)\n",
        "# model = Concatenate()([model,x_flat])\n",
        "# model = Reshape((25,25,4))(model) #25 25 4\n",
        "# model = Convolution2D(4,4, activation='relu')(model) #22 22 4\n",
        "# model = Convolution2D(4,3, activation='relu')(model) #20 20 4\n",
        "# model = Convolution2D(4,3, activation='relu')(model) #18 18 4\n",
        "# model = MaxPooling2D(pool_size=(2, 2))(model) #9 9 4\n",
        "# model = Convolution2D(4,3, activation='relu')(model) #7 7 4\n",
        "# model = Convolution2D(4,3, activation='relu')(model) #5 5 4\n",
        "# model = Convolution2D(4,3, activation='relu')(model) #3 3 4\n",
        "# # model = Convolution2D(10,3, activation='relu')(model) #1 1 10\n",
        "# model = Flatten()(model)\n",
        "# model = Dense(10,activation='softmax')(model)\n",
        "# # model = Activation('softmax')(model)\n",
        "\n",
        "\n",
        "\n",
        "\n",
        "\n",
        "\n",
        "\n",
        "\n",
        "\n",
        "# # x = Convolution2D(16, 3, activation='relu')(model)\n",
        "# # model = MaxPooling2D(pool_size=(2, 2))(x)\n",
        "# # model = Convolution2D(8, 3, activation='relu')(model)\n",
        "# # model = Convolution2D(2, 3, activation='relu')(model)\n",
        "# # model = Flatten()(model)\n",
        "# # x_flat = Flatten()(x)\n",
        "# # model = Concatenate()([model,x_flat])\n",
        "# # # outp = Flatten()(model)\n",
        "# # outp = Dense(10,activation='softmax')(model)\n",
        "# # # model = Activation('softmax')(outp)\n",
        "# model = Model(inputs=[inp], outputs = [model])\n",
        "# # model.add(Convolution2D(128, 3, activation='relu', input_shape=(28,28,1))) #26\n",
        "# # model.add(Convolution2D(64, 3, activation='relu', name = 'papa')) #24\n",
        "# # model.add(MaxPooling2D(pool_size=(2, 2))) #12\n",
        "# # model.add(Convolution2D(64, 3, activation='relu')) #10\n",
        "# # model.add(MaxPooling2D(pool_size=(2, 2))) #5\n",
        "# # model.add(Convolution2D(16, 3, activation='relu')) #3\n",
        "# # model.add(Convolution2D(10, 3, activation='relu')) #1\n",
        "# # model.add(Concatenate())\n",
        "# # model.add(Flatten()) # output shape = 10\n",
        "# # model.add(Activation('softmax'))\n",
        "\n",
        "# model.summary()"
      ],
      "execution_count": 0,
      "outputs": []
    },
    {
      "cell_type": "code",
      "metadata": {
        "id": "ig-8WteMfDqy",
        "colab_type": "code",
        "colab": {}
      },
      "source": [
        "# #psycode pscyched\n",
        "\n",
        "# from keras.layers import Activation, Input, Dense\n",
        "# from keras.models import Model\n",
        "# inp = Input(shape = (28,28,1))\n",
        "# model = Convolution2D(32, 3, activation='relu', name = 'papa')(inp)\n",
        "# model = Convolution2D(16, 3, activation='relu')(model)\n",
        "# model = MaxPooling2D(pool_size=(2, 2))(model)\n",
        "# x = Convolution2D(16, 3, activation='relu')(model)\n",
        "# model = MaxPooling2D(pool_size=(2, 2))(x)\n",
        "# model = Convolution2D(8, 3, activation='relu')(model)\n",
        "# model = Convolution2D(2, 3, activation='relu')(model)\n",
        "# model = Flatten()(model)\n",
        "# x_flat = Flatten()(x)\n",
        "# model = Concatenate()([model,x_flat])\n",
        "# # outp = Flatten()(model)\n",
        "# outp = Dense(10,activation='softmax')(model)\n",
        "# # model = Activation('softmax')(outp)\n",
        "# model = Model(inputs=[inp], outputs = [outp])\n",
        "# # model.add(Convolution2D(128, 3, activation='relu', input_shape=(28,28,1))) #26\n",
        "# # model.add(Convolution2D(64, 3, activation='relu', name = 'papa')) #24\n",
        "# # model.add(MaxPooling2D(pool_size=(2, 2))) #12\n",
        "# # model.add(Convolution2D(64, 3, activation='relu')) #10\n",
        "# # model.add(MaxPooling2D(pool_size=(2, 2))) #5\n",
        "# # model.add(Convolution2D(16, 3, activation='relu')) #3\n",
        "# # model.add(Convolution2D(10, 3, activation='relu')) #1\n",
        "# # model.add(Concatenate())\n",
        "# # model.add(Flatten()) # output shape = 10\n",
        "# # model.add(Activation('softmax'))\n",
        "\n",
        "# model.summary()"
      ],
      "execution_count": 0,
      "outputs": []
    },
    {
      "cell_type": "code",
      "metadata": {
        "id": "CMyYtuZM03QT",
        "colab_type": "code",
        "colab": {}
      },
      "source": [
        "# from keras.layers import Activation\n",
        "# model = Sequential()\n",
        "# model.add(Convolution2D(16, 3, activation='relu', input_shape=(28,28,1))) #26\n",
        "# model.add(BatchNormalization())\n",
        "# model.add(Dropout(0.3))\n",
        "# model.add(Convolution2D(32, 3, activation='relu', name = 'papa')) #24\n",
        "# model.add(BatchNormalization())\n",
        "# model.add(Dropout(0.3))\n",
        "# model.add(MaxPooling2D(pool_size=(2, 2))) #12\n",
        "# model.add(Convolution2D(16, 3, activation='relu')) #10\n",
        "# model.add(BatchNormalization())\n",
        "# model.add(Dropout(0.3))\n",
        "# model.add(Convolution2D(16, 3, activation='relu')) #8\n",
        "# model.add(BatchNormalization())\n",
        "# model.add(Dropout(0.3))\n",
        "# model.add(Convolution2D(32, 3, activation='relu')) #6\n",
        "# model.add(BatchNormalization())\n",
        "# model.add(Dropout(0.3))\n",
        "# model.add(MaxPooling2D(pool_size=(2, 2))) #3\n",
        "# model.add(Convolution2D(10, 3, activation='relu')) #1\n",
        "# model.add(BatchNormalization())\n",
        "# model.add(Flatten()) # output shape = 10\n",
        "# model.add(Activation('softmax'))\n",
        "\n",
        "# model.summary()"
      ],
      "execution_count": 0,
      "outputs": []
    },
    {
      "cell_type": "markdown",
      "metadata": {
        "id": "32mXHyrJavuX",
        "colab_type": "text"
      },
      "source": [
        "### Insights about the architecture of the model for getting the required minimum accuracy of 99.40%, using the number of parameters which is less than 20,000\n",
        "\n",
        "\n",
        "\n",
        "1.   How to decide the number of channels for the first few layers after the image input. First tried with a smaller values like 64 for the first layer and let's say 128 for the second layere. The intution was, the first layer will extract the information about the edges and gradients. After that once we have info about the edges and gradients those information will be used to get the info about the textures in the next layers. Now if we have used 64 channels to get the edges, that means we have 64 different edges so using that we will have more number of textures. So we need more number of channels in next layer. So based on this intution I have given more channels to the next layer which is 128. But contrary to my intution it was giving accruacy lower than the architecure where there are more number channels in the first layer and lesser number of channels in the next layer  (☉_☉). \n",
        "\n",
        "> #### Disclaimer! whatever understanding about the channels we got in the paragraph above is wrong. The accuracy was coming low because of some colab issues. When I tried same thing multiple number of times, I realised that having more number of channels for coming layers is actually better to get good accracy. \n",
        "\n",
        "\n",
        "\n",
        "2.  Next is to decide on how many max-pool layers to use. Usually the convention is we should use maxpool after few layers of input based on the size of the image. If the image size is big we can use max-pool sometimes after 9,11 or 13 layers of convolution. Or if it is small we should use after lesser layers. Another obligation is the max-pool layer should be away from the output. Cause if we do convolution on already small dimensional image after convolutions there won't be enough information left to get desired output. So keeping all those points in mind, the confusion here is how many max-pooling layers we should use here? So, we tried both the options with keeeping the other parameters constant. Obviously when there are two max-pooling the number of parameters will be low, but we tried to keep the number of channels in same range. After trying both the approaches, found out that one max-pooling layer after 3 layers of convolution was giving the best result."
      ]
    },
    {
      "cell_type": "code",
      "metadata": {
        "id": "bP-DqzcmcpZi",
        "colab_type": "code",
        "outputId": "2ee24458-8462-4d91-915e-825e667959c1",
        "colab": {
          "base_uri": "https://localhost:8080/",
          "height": 1000
        }
      },
      "source": [
        "# final model architecture which gives the desired accuracy after trying multiple combinations of network architecture\n",
        "\n",
        "model = Sequential()\n",
        "model.add(Convolution2D(14, 3, activation='relu', input_shape=(28,28,1))) #26\n",
        "model.add(BatchNormalization())\n",
        "model.add(Dropout(0.2))\n",
        "model.add(Convolution2D(16, 3, activation='relu')) #24\n",
        "model.add(BatchNormalization())\n",
        "model.add(Dropout(0.2))\n",
        "model.add(Convolution2D(24, 3, activation='relu')) #22\n",
        "model.add(BatchNormalization())\n",
        "model.add(Dropout(0.2))\n",
        "model.add(MaxPooling2D(pool_size=(2, 2))) #11\n",
        "model.add(Convolution2D(12, 3, activation='relu')) #9\n",
        "model.add(BatchNormalization())\n",
        "model.add(Dropout(0.2))\n",
        "model.add(Convolution2D(16, 3, activation='relu')) #7\n",
        "model.add(BatchNormalization())\n",
        "model.add(Dropout(0.2))\n",
        "model.add(Convolution2D(20, 3, activation='relu')) #5\n",
        "model.add(BatchNormalization())\n",
        "model.add(Dropout(0.2))\n",
        "model.add(Convolution2D(24, 3, activation='relu')) #3\n",
        "model.add(BatchNormalization())\n",
        "model.add(Dropout(0.2))\n",
        "model.add(Convolution2D(10, 3, activation='relu')) #1\n",
        "model.add(BatchNormalization())\n",
        "model.add(Flatten()) # output shape = 10\n",
        "model.add(Activation('softmax'))\n",
        "\n",
        "model.summary()"
      ],
      "execution_count": 0,
      "outputs": [
        {
          "output_type": "stream",
          "text": [
            "_________________________________________________________________\n",
            "Layer (type)                 Output Shape              Param #   \n",
            "=================================================================\n",
            "conv2d_189 (Conv2D)          (None, 26, 26, 14)        140       \n",
            "_________________________________________________________________\n",
            "batch_normalization_217 (Bat (None, 26, 26, 14)        56        \n",
            "_________________________________________________________________\n",
            "dropout_175 (Dropout)        (None, 26, 26, 14)        0         \n",
            "_________________________________________________________________\n",
            "papa (Conv2D)                (None, 24, 24, 16)        2032      \n",
            "_________________________________________________________________\n",
            "batch_normalization_218 (Bat (None, 24, 24, 16)        64        \n",
            "_________________________________________________________________\n",
            "dropout_176 (Dropout)        (None, 24, 24, 16)        0         \n",
            "_________________________________________________________________\n",
            "conv2d_190 (Conv2D)          (None, 22, 22, 24)        3480      \n",
            "_________________________________________________________________\n",
            "batch_normalization_219 (Bat (None, 22, 22, 24)        96        \n",
            "_________________________________________________________________\n",
            "dropout_177 (Dropout)        (None, 22, 22, 24)        0         \n",
            "_________________________________________________________________\n",
            "max_pooling2d_33 (MaxPooling (None, 11, 11, 24)        0         \n",
            "_________________________________________________________________\n",
            "conv2d_191 (Conv2D)          (None, 9, 9, 12)          2604      \n",
            "_________________________________________________________________\n",
            "batch_normalization_220 (Bat (None, 9, 9, 12)          48        \n",
            "_________________________________________________________________\n",
            "dropout_178 (Dropout)        (None, 9, 9, 12)          0         \n",
            "_________________________________________________________________\n",
            "conv2d_192 (Conv2D)          (None, 7, 7, 16)          1744      \n",
            "_________________________________________________________________\n",
            "batch_normalization_221 (Bat (None, 7, 7, 16)          64        \n",
            "_________________________________________________________________\n",
            "dropout_179 (Dropout)        (None, 7, 7, 16)          0         \n",
            "_________________________________________________________________\n",
            "conv2d_193 (Conv2D)          (None, 5, 5, 20)          2900      \n",
            "_________________________________________________________________\n",
            "batch_normalization_222 (Bat (None, 5, 5, 20)          80        \n",
            "_________________________________________________________________\n",
            "dropout_180 (Dropout)        (None, 5, 5, 20)          0         \n",
            "_________________________________________________________________\n",
            "conv2d_194 (Conv2D)          (None, 3, 3, 24)          4344      \n",
            "_________________________________________________________________\n",
            "batch_normalization_223 (Bat (None, 3, 3, 24)          96        \n",
            "_________________________________________________________________\n",
            "dropout_181 (Dropout)        (None, 3, 3, 24)          0         \n",
            "_________________________________________________________________\n",
            "conv2d_195 (Conv2D)          (None, 1, 1, 10)          2170      \n",
            "_________________________________________________________________\n",
            "batch_normalization_224 (Bat (None, 1, 1, 10)          40        \n",
            "_________________________________________________________________\n",
            "flatten_29 (Flatten)         (None, 10)                0         \n",
            "_________________________________________________________________\n",
            "activation_29 (Activation)   (None, 10)                0         \n",
            "=================================================================\n",
            "Total params: 19,958\n",
            "Trainable params: 19,686\n",
            "Non-trainable params: 272\n",
            "_________________________________________________________________\n"
          ],
          "name": "stdout"
        }
      ]
    },
    {
      "cell_type": "code",
      "metadata": {
        "id": "8TNqJUJDviuD",
        "colab_type": "code",
        "colab": {}
      },
      "source": [
        "# compiling the model with the specific loss function and optimizer\n",
        "\n",
        "model.compile(loss='categorical_crossentropy',\n",
        "             optimizer='adam',\n",
        "             metrics=['accuracy'])"
      ],
      "execution_count": 0,
      "outputs": []
    },
    {
      "cell_type": "code",
      "metadata": {
        "id": "6si-AmiWwXH5",
        "colab_type": "code",
        "outputId": "8ebecd8a-fd2a-4404-803e-b845ec33627d",
        "colab": {
          "base_uri": "https://localhost:8080/",
          "height": 1000
        }
      },
      "source": [
        "# running the training for 30 epochs\n",
        "\n",
        "model.fit(X_train, Y_train, batch_size=32, epochs=30, verbose=1)"
      ],
      "execution_count": 0,
      "outputs": [
        {
          "output_type": "stream",
          "text": [
            "Epoch 1/30\n",
            "60000/60000 [==============================] - 33s 542us/step - loss: 0.6004 - acc: 0.8437\n",
            "Epoch 2/30\n",
            "60000/60000 [==============================] - 26s 426us/step - loss: 0.2254 - acc: 0.9436\n",
            "Epoch 3/30\n",
            "60000/60000 [==============================] - 26s 427us/step - loss: 0.1522 - acc: 0.9628\n",
            "Epoch 4/30\n",
            "60000/60000 [==============================] - 26s 426us/step - loss: 0.1177 - acc: 0.9708\n",
            "Epoch 5/30\n",
            "60000/60000 [==============================] - 26s 433us/step - loss: 0.1020 - acc: 0.9743\n",
            "Epoch 6/30\n",
            "60000/60000 [==============================] - 25s 425us/step - loss: 0.0873 - acc: 0.9775\n",
            "Epoch 7/30\n",
            "60000/60000 [==============================] - 25s 422us/step - loss: 0.0826 - acc: 0.9782\n",
            "Epoch 8/30\n",
            "60000/60000 [==============================] - 25s 421us/step - loss: 0.0753 - acc: 0.9800\n",
            "Epoch 9/30\n",
            "60000/60000 [==============================] - 25s 423us/step - loss: 0.0718 - acc: 0.9808\n",
            "Epoch 10/30\n",
            "60000/60000 [==============================] - 25s 424us/step - loss: 0.0658 - acc: 0.9827\n",
            "Epoch 11/30\n",
            "60000/60000 [==============================] - 25s 417us/step - loss: 0.0644 - acc: 0.9826\n",
            "Epoch 12/30\n",
            "60000/60000 [==============================] - 25s 420us/step - loss: 0.0601 - acc: 0.9844\n",
            "Epoch 13/30\n",
            "60000/60000 [==============================] - 25s 421us/step - loss: 0.0583 - acc: 0.9839\n",
            "Epoch 14/30\n",
            "60000/60000 [==============================] - 25s 419us/step - loss: 0.0533 - acc: 0.9856\n",
            "Epoch 15/30\n",
            "60000/60000 [==============================] - 25s 420us/step - loss: 0.0519 - acc: 0.9853\n",
            "Epoch 16/30\n",
            "60000/60000 [==============================] - 25s 419us/step - loss: 0.0538 - acc: 0.9853\n",
            "Epoch 17/30\n",
            "60000/60000 [==============================] - 25s 425us/step - loss: 0.0504 - acc: 0.9860\n",
            "Epoch 18/30\n",
            "60000/60000 [==============================] - 25s 422us/step - loss: 0.0478 - acc: 0.9865\n",
            "Epoch 19/30\n",
            "60000/60000 [==============================] - 25s 423us/step - loss: 0.0492 - acc: 0.9866\n",
            "Epoch 20/30\n",
            "60000/60000 [==============================] - 25s 420us/step - loss: 0.0471 - acc: 0.9867\n",
            "Epoch 21/30\n",
            "60000/60000 [==============================] - 25s 420us/step - loss: 0.0471 - acc: 0.9869\n",
            "Epoch 22/30\n",
            "60000/60000 [==============================] - 25s 417us/step - loss: 0.0439 - acc: 0.9876\n",
            "Epoch 23/30\n",
            "60000/60000 [==============================] - 25s 420us/step - loss: 0.0435 - acc: 0.9876\n",
            "Epoch 24/30\n",
            "60000/60000 [==============================] - 25s 419us/step - loss: 0.0422 - acc: 0.9883\n",
            "Epoch 25/30\n",
            "60000/60000 [==============================] - 25s 420us/step - loss: 0.0413 - acc: 0.9888\n",
            "Epoch 26/30\n",
            "60000/60000 [==============================] - 25s 421us/step - loss: 0.0404 - acc: 0.9887\n",
            "Epoch 27/30\n",
            "60000/60000 [==============================] - 25s 417us/step - loss: 0.0410 - acc: 0.9884\n",
            "Epoch 28/30\n",
            "60000/60000 [==============================] - 25s 416us/step - loss: 0.0393 - acc: 0.9888\n",
            "Epoch 29/30\n",
            "60000/60000 [==============================] - 25s 424us/step - loss: 0.0391 - acc: 0.9889\n",
            "Epoch 30/30\n",
            "60000/60000 [==============================] - 25s 425us/step - loss: 0.0385 - acc: 0.9887\n"
          ],
          "name": "stdout"
        },
        {
          "output_type": "execute_result",
          "data": {
            "text/plain": [
              "<keras.callbacks.History at 0x7ff5a1f65518>"
            ]
          },
          "metadata": {
            "tags": []
          },
          "execution_count": 94
        }
      ]
    },
    {
      "cell_type": "code",
      "metadata": {
        "id": "MRIyriM3x5w7",
        "colab_type": "code",
        "colab": {}
      },
      "source": [
        "# evaluating the model on test data\n",
        "\n",
        "score = model.evaluate(X_test, Y_test, verbose=0)"
      ],
      "execution_count": 0,
      "outputs": []
    },
    {
      "cell_type": "code",
      "metadata": {
        "id": "BuYSxEDmbN9A",
        "colab_type": "code",
        "outputId": "868a37ad-7a39-4c6e-b420-46ef8c5dcf3e",
        "colab": {
          "base_uri": "https://localhost:8080/",
          "height": 34
        }
      },
      "source": [
        "print(score)"
      ],
      "execution_count": 0,
      "outputs": [
        {
          "output_type": "stream",
          "text": [
            "[0.019979015947552397, 0.9947]\n"
          ],
          "name": "stdout"
        }
      ]
    },
    {
      "cell_type": "code",
      "metadata": {
        "id": "OCWoJkwE9suh",
        "colab_type": "code",
        "colab": {}
      },
      "source": [
        "# predicting the outputs using the trained model\n",
        "\n",
        "y_pred = model.predict(X_test)"
      ],
      "execution_count": 0,
      "outputs": []
    },
    {
      "cell_type": "code",
      "metadata": {
        "id": "Ym7iCFBm9uBs",
        "colab_type": "code",
        "outputId": "c0ea7317-8ef5-43e0-c9f0-bb8b7f7471de",
        "colab": {
          "base_uri": "https://localhost:8080/",
          "height": 493
        }
      },
      "source": [
        "print(y_pred[:9])\n",
        "print(y_test[:9])"
      ],
      "execution_count": 0,
      "outputs": [
        {
          "output_type": "stream",
          "text": [
            "[[7.37971095e-06 1.60320633e-05 2.74687354e-05 4.88048317e-06\n",
            "  1.39672447e-05 3.53481187e-06 2.08981655e-05 9.99864817e-01\n",
            "  2.46313743e-06 3.85489548e-05]\n",
            " [4.00262834e-05 1.63817400e-04 9.99481857e-01 2.84741964e-05\n",
            "  1.53543515e-05 1.29189248e-05 1.91686384e-04 1.93592859e-05\n",
            "  2.84521011e-05 1.80666229e-05]\n",
            " [6.25547636e-06 9.99973774e-01 7.99242173e-07 1.77031453e-07\n",
            "  2.22988024e-06 7.27442796e-07 1.17016168e-06 1.34803076e-05\n",
            "  8.77338834e-07 5.49623905e-07]\n",
            " [9.99836087e-01 5.60172921e-05 6.19063167e-06 4.94153619e-06\n",
            "  3.57571457e-06 1.04456985e-05 3.57906647e-05 1.86313846e-05\n",
            "  7.34507421e-06 2.10170238e-05]\n",
            " [2.58151135e-06 6.39495047e-05 2.60547540e-06 1.71587965e-06\n",
            "  9.99668717e-01 1.74582544e-06 1.77877553e-06 6.74790726e-06\n",
            "  3.84493342e-06 2.46211886e-04]\n",
            " [4.36741038e-06 9.99978900e-01 7.09223627e-07 8.30521643e-08\n",
            "  1.83827603e-06 2.07309782e-07 7.28928512e-07 1.10569117e-05\n",
            "  1.61367996e-06 4.41760108e-07]\n",
            " [8.92002936e-06 8.85034751e-05 9.00283339e-06 5.92896731e-06\n",
            "  9.99461591e-01 6.03244052e-06 6.14629471e-06 3.19266437e-05\n",
            "  1.32855967e-05 3.68538429e-04]\n",
            " [1.30106155e-05 1.20497039e-04 1.31313927e-05 8.64790672e-06\n",
            "  9.71078334e-05 8.79882282e-06 8.96488018e-06 1.31852266e-05\n",
            "  1.93781616e-05 9.99697208e-01]\n",
            " [8.47097253e-04 9.43334890e-05 8.54960817e-04 5.63049049e-04\n",
            "  6.80871482e-04 9.72088635e-01 2.19496507e-02 8.58465442e-04\n",
            "  1.26167713e-03 8.01144401e-04]]\n",
            "[7 2 1 0 4 1 4 9 5]\n"
          ],
          "name": "stdout"
        }
      ]
    },
    {
      "cell_type": "code",
      "metadata": {
        "id": "CT--y98_dr2T",
        "colab_type": "code",
        "colab": {}
      },
      "source": [
        "# storing each layers of the network in a dictionary format\n",
        "\n",
        "layer_dict = dict([(layer.name, layer) for layer in model.layers])"
      ],
      "execution_count": 0,
      "outputs": []
    },
    {
      "cell_type": "code",
      "metadata": {
        "id": "2GY4Upv4dsUR",
        "colab_type": "code",
        "outputId": "81897a89-03c2-4ece-ec42-1d66b5ca2b7a",
        "colab": {
          "base_uri": "https://localhost:8080/",
          "height": 837
        }
      },
      "source": [
        "# this block of code is to show how the receptive field looks like form a particular layer or else we can say it as a visualization of the pixels for which the kernels gets activated the most\n",
        "\n",
        "import numpy as np\n",
        "from matplotlib import pyplot as plt\n",
        "from keras import backend as K\n",
        "%matplotlib inline\n",
        "# util function to convert a tensor into a valid image\n",
        "def deprocess_image(x):\n",
        "    # normalize tensor: center on 0., ensure std is 0.1\n",
        "    x -= x.mean()\n",
        "    x /= (x.std() + 1e-5)\n",
        "    x *= 0.1\n",
        "\n",
        "    # clip to [0, 1]\n",
        "    x += 0.5\n",
        "    x = np.clip(x, 0, 1)\n",
        "\n",
        "    # convert to RGB array\n",
        "    x *= 255\n",
        "    #x = x.transpose((1, 2, 0))\n",
        "    x = np.clip(x, 0, 255).astype('uint8')\n",
        "    return x\n",
        "\n",
        "def vis_img_in_filter(img = np.array(X_train[2]).reshape((1, 28, 28, 1)).astype(np.float64), \n",
        "                      layer_name = 'conv2d_190'):\n",
        "    layer_output = layer_dict[layer_name].output\n",
        "    img_ascs = list()\n",
        "    for filter_index in range(layer_output.shape[3]):\n",
        "        # build a loss function that maximizes the activation\n",
        "        # of the nth filter of the layer considered\n",
        "        loss = K.mean(layer_output[:, :, :, filter_index])\n",
        "\n",
        "        # compute the gradient of the input picture wrt this loss\n",
        "        grads = K.gradients(loss, model.input)[0]\n",
        "\n",
        "        # normalization trick: we normalize the gradient\n",
        "        grads /= (K.sqrt(K.mean(K.square(grads))) + 1e-5)\n",
        "\n",
        "        # this function returns the loss and grads given the input picture\n",
        "        iterate = K.function([model.input], [loss, grads])\n",
        "\n",
        "        # step size for gradient ascent\n",
        "        step = 5.\n",
        "\n",
        "        img_asc = np.array(img)\n",
        "        # run gradient ascent for 20 steps\n",
        "        for i in range(20):\n",
        "            loss_value, grads_value = iterate([img_asc])\n",
        "            img_asc += grads_value * step\n",
        "\n",
        "        img_asc = img_asc[0]\n",
        "        img_ascs.append(deprocess_image(img_asc).reshape((28, 28)))\n",
        "        \n",
        "    if layer_output.shape[3] >= 35:\n",
        "        plot_x, plot_y = 6, 6\n",
        "    elif layer_output.shape[3] >= 23:\n",
        "        plot_x, plot_y = 4, 6\n",
        "    elif layer_output.shape[3] >= 11:\n",
        "        plot_x, plot_y = 2, 6\n",
        "    else:\n",
        "        plot_x, plot_y = 1, 2\n",
        "    fig, ax = plt.subplots(plot_x, plot_y, figsize = (12, 12))\n",
        "    ax[0, 0].imshow(img.reshape((28, 28)), cmap = 'gray')\n",
        "    ax[0, 0].set_title('Input image')\n",
        "    fig.suptitle('Input image and %s filters' % (layer_name,))\n",
        "    fig.tight_layout(pad = 0.3, rect = [0, 0, 0.9, 0.9])\n",
        "    for (x, y) in [(i, j) for i in range(plot_x) for j in range(plot_y)]:\n",
        "        if x == 0 and y == 0:\n",
        "            continue\n",
        "        ax[x, y].imshow(img_ascs[x * plot_y + y - 1], cmap = 'gray')\n",
        "        ax[x, y].set_title('filter %d' % (x * plot_y + y - 1))\n",
        "\n",
        "vis_img_in_filter()"
      ],
      "execution_count": 0,
      "outputs": [
        {
          "output_type": "display_data",
          "data": {
            "image/png": "[encoded data removed]",
            "text/plain": [
              "<Figure size 864x864 with 24 Axes>"
            ]
          },
          "metadata": {
            "tags": []
          }
        }
      ]
    }
  ]
}